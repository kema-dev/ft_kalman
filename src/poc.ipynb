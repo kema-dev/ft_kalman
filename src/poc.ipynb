{
 "cells": [
  {
   "cell_type": "markdown",
   "metadata": {},
   "source": [
    "Create connection and parse first message"
   ]
  },
  {
   "cell_type": "code",
   "execution_count": 61,
   "metadata": {},
   "outputs": [],
   "source": [
    "import socket\n",
    "IP = '127.0.0.1'\n",
    "PORT = 4242\n",
    "HANDSHAKE = 'READY'\n",
    "\n",
    "# ? Create socket\n",
    "sock = socket.socket(socket.AF_INET, socket.SOCK_DGRAM)\n",
    "sock.sendto(HANDSHAKE.encode('UTF-8'), (IP, PORT))\n",
    "\n",
    "# TODO Loop other messages\n",
    "\n",
    "# ? Skip garbage\n",
    "while (data != 'MSG_START'):\n",
    "\tdata, addr = sock.recvfrom(1024)\n",
    "\tdata = data.decode('UTF-8')\n",
    "\n",
    "# ? Parse position\n",
    "data, addr = sock.recvfrom(1024)\n",
    "data = data.decode('UTF-8')\n",
    "dt = data[data.find('\\n')+1:]\n",
    "posX = dt[:dt.find('\\n')]\n",
    "dt = dt[dt.find('\\n')+1:]\n",
    "posY = dt[:dt.find('\\n')]\n",
    "dt = dt[dt.find('\\n')+1:]\n",
    "posZ = dt[:dt.find('\\n')]\n",
    "# print('posX: ', posX)\n",
    "# print('posY: ', posY)\n",
    "# print('posZ: ', posZ)\n",
    "\n",
    "# ? Parse Speed\n",
    "data, addr = sock.recvfrom(1024)\n",
    "data = data.decode('UTF-8')\n",
    "dt = data[data.find('\\n')+1:]\n",
    "s = dt[:dt.find('\\n')]\n",
    "# print('Speed: ', s)\n",
    "\n",
    "# ? Parse Acceleration\n",
    "data, addr = sock.recvfrom(1024)\n",
    "data = data.decode('UTF-8')\n",
    "dt = data[data.find('\\n')+1:]\n",
    "aX = dt[:dt.find('\\n')]\n",
    "dt = dt[dt.find('\\n')+1:]\n",
    "aY = dt[:dt.find('\\n')]\n",
    "dt = dt[dt.find('\\n')+1:]\n",
    "aZ = dt[:dt.find('\\n')]\n",
    "# print('aX: ', aX)\n",
    "# print('aY: ', aY)\n",
    "# print('aZ: ', aZ)\n",
    "\n",
    "# ? Parse Direction\n",
    "data, addr = sock.recvfrom(1024)\n",
    "data = data.decode('UTF-8')\n",
    "dt = data[data.find('\\n')+1:]\n",
    "dX = dt[:dt.find('\\n')]\n",
    "dt = dt[dt.find('\\n')+1:]\n",
    "dY = dt[:dt.find('\\n')]\n",
    "dt = dt[dt.find('\\n')+1:]\n",
    "dZ = dt[:dt.find('\\n')]\n",
    "# print('dX: ', dX)\n",
    "# print('dY: ', dY)\n",
    "# print('dZ: ', dZ)"
   ]
  },
  {
   "cell_type": "markdown",
   "metadata": {},
   "source": [
    "Predict future position from parsed data"
   ]
  },
  {
   "cell_type": "code",
   "execution_count": null,
   "metadata": {},
   "outputs": [],
   "source": [
    "\n",
    "# TODO Convert units to match each other\n",
    "\n",
    "# ? Position\n",
    "P = [[posX],\n",
    "     [posY],\n",
    "     [posZ]]\n",
    "\n",
    "# ? Acceleration\n",
    "A = [[aX],\n",
    "     [aY],\n",
    "     [aZ]]\n",
    "\n",
    "# ? Direction\n",
    "D = [[dX],\n",
    "     [dY],\n",
    "     [dZ]]\n",
    "\n",
    "# ? time delta\n",
    "# TODO t value TBD\n",
    "t = 3 # ? in seconds\n",
    "\n",
    "# ? let be F be the estimated final position matrix\n",
    "# ? let noise_corr be the correction of the additive noise caused by sensors incertainity\n",
    "# ? formula should be\n",
    "# ? F = P + s * D * t + 0.5 * A * t ** 2 + noise_corr(P, s, D, A)"
   ]
  }
 ],
 "metadata": {
  "interpreter": {
   "hash": "767d51c1340bd893661ea55ea3124f6de3c7a262a8b4abca0554b478b1e2ff90"
  },
  "kernelspec": {
   "display_name": "Python 3.9.10 64-bit",
   "language": "python",
   "name": "python3"
  },
  "language_info": {
   "codemirror_mode": {
    "name": "ipython",
    "version": 3
   },
   "file_extension": ".py",
   "mimetype": "text/x-python",
   "name": "python",
   "nbconvert_exporter": "python",
   "pygments_lexer": "ipython3",
   "version": "3.9.10"
  },
  "orig_nbformat": 4
 },
 "nbformat": 4,
 "nbformat_minor": 2
}
